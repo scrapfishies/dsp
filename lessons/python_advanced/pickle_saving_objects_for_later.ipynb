{
 "cells": [
  {
   "cell_type": "code",
   "execution_count": 1,
   "metadata": {},
   "outputs": [
    {
     "name": "stdout",
     "output_type": "stream",
     "text": [
      "Python Version: 3.8.3 (default, Jul  2 2020, 11:26:31) \n",
      "[Clang 10.0.0 ] \n",
      "\n"
     ]
    }
   ],
   "source": [
    "import sys\n",
    "print(\"Python Version:\", sys.version, '\\n')"
   ]
  },
  {
   "cell_type": "markdown",
   "metadata": {},
   "source": [
    "# Pickle: Saving Objects for Later"
   ]
  },
  {
   "cell_type": "markdown",
   "metadata": {},
   "source": [
    "Often in data science, we'll create some model or some version of our data and want to use it later. We have many options - we can save the coefficients, or save the data to csv, or...\n",
    "\n",
    "Actually, we don't have that many options. \n",
    "\n",
    "One way to overcome that is to save the python object to a file as a serialized object. That means we convert the entire object to a bunch of bytes, save those bytes into a file, and then have the ability to unpack those bytes back into their original format later. \n",
    "\n",
    "This is done by a module called `pickle`. Let's see it in action."
   ]
  },
  {
   "cell_type": "code",
   "execution_count": 2,
   "metadata": {},
   "outputs": [],
   "source": [
    "import pickle\n",
    "import random\n",
    "\n",
    "lots_of_noise = {\n",
    "    'CA': [random.randint(0,65) for _ in range(100)],\n",
    "    'IL': [random.randint(0,65) for _ in range(50)],\n",
    "    'NY': [random.randint(0,65) for _ in range(90)],\n",
    "    'WA': [random.randint(0,65) for _ in range(33)]\n",
    "}"
   ]
  },
  {
   "cell_type": "code",
   "execution_count": 3,
   "metadata": {},
   "outputs": [
    {
     "name": "stdout",
     "output_type": "stream",
     "text": [
      "{'CA': [15, 2, 65, 29, 6, 49, 14, 52, 54, 54, 56, 19, 59, 17, 38, 64, 57, 58, 1, 41, 61, 5, 49, 26, 35, 22, 32, 43, 47, 32, 54, 10, 16, 31, 40, 37, 53, 14, 49, 26, 17, 64, 7, 53, 50, 16, 57, 1, 45, 34, 4, 32, 29, 43, 37, 22, 63, 22, 31, 29, 10, 4, 17, 5, 8, 54, 18, 61, 47, 37, 39, 61, 55, 20, 36, 36, 2, 10, 47, 37, 10, 20, 33, 38, 22, 12, 0, 45, 6, 19, 59, 0, 54, 45, 42, 3, 48, 15, 6, 8], 'IL': [20, 15, 62, 15, 45, 51, 62, 53, 36, 17, 59, 49, 33, 2, 54, 38, 29, 64, 0, 12, 48, 2, 41, 42, 28, 14, 6, 57, 50, 46, 47, 63, 29, 10, 52, 6, 10, 37, 22, 5, 59, 39, 62, 27, 57, 19, 27, 5, 26, 42], 'NY': [32, 65, 14, 12, 28, 41, 56, 22, 38, 5, 19, 19, 20, 11, 35, 12, 40, 61, 36, 3, 28, 63, 53, 29, 18, 22, 7, 35, 43, 30, 56, 19, 43, 4, 40, 52, 56, 33, 35, 38, 9, 2, 28, 21, 59, 2, 53, 25, 53, 35, 8, 7, 44, 59, 13, 32, 17, 31, 5, 63, 35, 2, 12, 21, 54, 6, 3, 48, 14, 65, 35, 8, 29, 21, 50, 20, 28, 27, 15, 38, 34, 34, 54, 4, 15, 24, 35, 13, 14, 22], 'WA': [51, 36, 37, 8, 26, 64, 1, 48, 24, 60, 59, 40, 19, 59, 57, 32, 56, 24, 44, 14, 37, 38, 6, 22, 62, 13, 20, 13, 55, 62, 32, 18, 44]}\n"
     ]
    }
   ],
   "source": [
    "print(lots_of_noise)"
   ]
  },
  {
   "cell_type": "code",
   "execution_count": 4,
   "metadata": {},
   "outputs": [
    {
     "name": "stdout",
     "output_type": "stream",
     "text": [
      "Variable        Type      Data/Info\n",
      "-----------------------------------\n",
      "lots_of_noise   dict      n=4\n",
      "pickle          module    <module 'pickle' from '/U<...>lib/python3.8/pickle.py'>\n",
      "random          module    <module 'random' from '/U<...>lib/python3.8/random.py'>\n",
      "sys             module    <module 'sys' (built-in)>\n"
     ]
    }
   ],
   "source": [
    "whos"
   ]
  },
  {
   "cell_type": "markdown",
   "metadata": {},
   "source": [
    "We can see in this `whos` command that the object `lots_of_noise` exists and is a `dict` with 4 keys. Nice. Now let's look at our file system and verify that there isn't a file called `noise.pickle`."
   ]
  },
  {
   "cell_type": "code",
   "execution_count": 5,
   "metadata": {},
   "outputs": [
    {
     "name": "stdout",
     "output_type": "stream",
     "text": [
      "advanced_python_datatypes.ipynb       my_dataframe.pickle\r\n",
      "complexity.md                         noise.pickle\r\n",
      "deep_and_shallow_copy.ipynb           pickle_saving_objects_for_later.ipynb\r\n",
      "\u001b[1m\u001b[36mdeep_copy_demo\u001b[m\u001b[m                        readme.md\r\n"
     ]
    }
   ],
   "source": [
    "!ls"
   ]
  },
  {
   "cell_type": "markdown",
   "metadata": {},
   "source": [
    "Okay, now we're ready to create a file and write the bytes to it. To do this with `pickle`, we use python's read-write streamer `open` and create a writable-binary (`wb`) file. We'll then use `pickle.dump` to put an object into that file as a string of bytes."
   ]
  },
  {
   "cell_type": "code",
   "execution_count": 6,
   "metadata": {},
   "outputs": [],
   "source": [
    "with open('noise.pickle', 'wb') as to_write:\n",
    "    pickle.dump(lots_of_noise, to_write)"
   ]
  },
  {
   "cell_type": "code",
   "execution_count": 7,
   "metadata": {},
   "outputs": [
    {
     "name": "stdout",
     "output_type": "stream",
     "text": [
      "advanced_python_datatypes.ipynb       my_dataframe.pickle\r\n",
      "complexity.md                         noise.pickle\r\n",
      "deep_and_shallow_copy.ipynb           pickle_saving_objects_for_later.ipynb\r\n",
      "\u001b[1m\u001b[36mdeep_copy_demo\u001b[m\u001b[m                        readme.md\r\n"
     ]
    }
   ],
   "source": [
    "!ls"
   ]
  },
  {
   "cell_type": "markdown",
   "metadata": {},
   "source": [
    "Now let's delete `lots_of_noise` and prove to ourselves it doesn't exist in Python's memory anymore."
   ]
  },
  {
   "cell_type": "code",
   "execution_count": 8,
   "metadata": {},
   "outputs": [],
   "source": [
    "del lots_of_noise"
   ]
  },
  {
   "cell_type": "code",
   "execution_count": 9,
   "metadata": {},
   "outputs": [
    {
     "name": "stdout",
     "output_type": "stream",
     "text": [
      "Variable   Type              Data/Info\n",
      "--------------------------------------\n",
      "pickle     module            <module 'pickle' from '/U<...>lib/python3.8/pickle.py'>\n",
      "random     module            <module 'random' from '/U<...>lib/python3.8/random.py'>\n",
      "sys        module            <module 'sys' (built-in)>\n",
      "to_write   BufferedWriter    <_io.BufferedWriter name='noise.pickle'>\n"
     ]
    }
   ],
   "source": [
    "whos"
   ]
  },
  {
   "cell_type": "code",
   "execution_count": 10,
   "metadata": {},
   "outputs": [
    {
     "ename": "NameError",
     "evalue": "name 'lots_of_noise' is not defined",
     "output_type": "error",
     "traceback": [
      "\u001b[0;31m---------------------------------------------------------------------------\u001b[0m",
      "\u001b[0;31mNameError\u001b[0m                                 Traceback (most recent call last)",
      "\u001b[0;32m<ipython-input-10-69f22b4d5ca8>\u001b[0m in \u001b[0;36m<module>\u001b[0;34m\u001b[0m\n\u001b[0;32m----> 1\u001b[0;31m \u001b[0mprint\u001b[0m\u001b[0;34m(\u001b[0m\u001b[0mlots_of_noise\u001b[0m\u001b[0;34m)\u001b[0m\u001b[0;34m\u001b[0m\u001b[0;34m\u001b[0m\u001b[0m\n\u001b[0m",
      "\u001b[0;31mNameError\u001b[0m: name 'lots_of_noise' is not defined"
     ]
    }
   ],
   "source": [
    "print(lots_of_noise)"
   ]
  },
  {
   "cell_type": "markdown",
   "metadata": {},
   "source": [
    "Lovely. It's dead forever. Or is it?\n",
    "\n",
    "Let's open that `noise.pickle` file with read-binary (`rb`) mode. Then we'll ask pickle to retrieve the file with `pickle.load` and store it back in a variable."
   ]
  },
  {
   "cell_type": "code",
   "execution_count": 11,
   "metadata": {},
   "outputs": [],
   "source": [
    "with open('noise.pickle','rb') as read_file:\n",
    "    new_noise = pickle.load(read_file)"
   ]
  },
  {
   "cell_type": "code",
   "execution_count": 12,
   "metadata": {},
   "outputs": [
    {
     "name": "stdout",
     "output_type": "stream",
     "text": [
      "{'CA': [15, 2, 65, 29, 6, 49, 14, 52, 54, 54, 56, 19, 59, 17, 38, 64, 57, 58, 1, 41, 61, 5, 49, 26, 35, 22, 32, 43, 47, 32, 54, 10, 16, 31, 40, 37, 53, 14, 49, 26, 17, 64, 7, 53, 50, 16, 57, 1, 45, 34, 4, 32, 29, 43, 37, 22, 63, 22, 31, 29, 10, 4, 17, 5, 8, 54, 18, 61, 47, 37, 39, 61, 55, 20, 36, 36, 2, 10, 47, 37, 10, 20, 33, 38, 22, 12, 0, 45, 6, 19, 59, 0, 54, 45, 42, 3, 48, 15, 6, 8], 'IL': [20, 15, 62, 15, 45, 51, 62, 53, 36, 17, 59, 49, 33, 2, 54, 38, 29, 64, 0, 12, 48, 2, 41, 42, 28, 14, 6, 57, 50, 46, 47, 63, 29, 10, 52, 6, 10, 37, 22, 5, 59, 39, 62, 27, 57, 19, 27, 5, 26, 42], 'NY': [32, 65, 14, 12, 28, 41, 56, 22, 38, 5, 19, 19, 20, 11, 35, 12, 40, 61, 36, 3, 28, 63, 53, 29, 18, 22, 7, 35, 43, 30, 56, 19, 43, 4, 40, 52, 56, 33, 35, 38, 9, 2, 28, 21, 59, 2, 53, 25, 53, 35, 8, 7, 44, 59, 13, 32, 17, 31, 5, 63, 35, 2, 12, 21, 54, 6, 3, 48, 14, 65, 35, 8, 29, 21, 50, 20, 28, 27, 15, 38, 34, 34, 54, 4, 15, 24, 35, 13, 14, 22], 'WA': [51, 36, 37, 8, 26, 64, 1, 48, 24, 60, 59, 40, 19, 59, 57, 32, 56, 24, 44, 14, 37, 38, 6, 22, 62, 13, 20, 13, 55, 62, 32, 18, 44]}\n"
     ]
    }
   ],
   "source": [
    "print(new_noise)"
   ]
  },
  {
   "cell_type": "code",
   "execution_count": 13,
   "metadata": {},
   "outputs": [
    {
     "name": "stdout",
     "output_type": "stream",
     "text": [
      "Variable    Type              Data/Info\n",
      "---------------------------------------\n",
      "new_noise   dict              n=4\n",
      "pickle      module            <module 'pickle' from '/U<...>lib/python3.8/pickle.py'>\n",
      "random      module            <module 'random' from '/U<...>lib/python3.8/random.py'>\n",
      "read_file   BufferedReader    <_io.BufferedReader name='noise.pickle'>\n",
      "sys         module            <module 'sys' (built-in)>\n",
      "to_write    BufferedWriter    <_io.BufferedWriter name='noise.pickle'>\n"
     ]
    }
   ],
   "source": [
    "whos"
   ]
  },
  {
   "cell_type": "markdown",
   "metadata": {},
   "source": [
    "Random noise lives! We retrieved the entire structure from file. Nice."
   ]
  },
  {
   "cell_type": "markdown",
   "metadata": {},
   "source": [
    "### Okay, but I don't use dictionaries... I use pandas."
   ]
  },
  {
   "cell_type": "code",
   "execution_count": 14,
   "metadata": {},
   "outputs": [
    {
     "data": {
      "text/html": [
       "<div>\n",
       "<style scoped>\n",
       "    .dataframe tbody tr th:only-of-type {\n",
       "        vertical-align: middle;\n",
       "    }\n",
       "\n",
       "    .dataframe tbody tr th {\n",
       "        vertical-align: top;\n",
       "    }\n",
       "\n",
       "    .dataframe thead th {\n",
       "        text-align: right;\n",
       "    }\n",
       "</style>\n",
       "<table border=\"1\" class=\"dataframe\">\n",
       "  <thead>\n",
       "    <tr style=\"text-align: right;\">\n",
       "      <th></th>\n",
       "      <th>Yay</th>\n",
       "      <th>specific</th>\n",
       "      <th>column</th>\n",
       "      <th>names</th>\n",
       "    </tr>\n",
       "  </thead>\n",
       "  <tbody>\n",
       "    <tr>\n",
       "      <th>0</th>\n",
       "      <td>8.616097</td>\n",
       "      <td>4.188456</td>\n",
       "      <td>-1.824472</td>\n",
       "      <td>8.336657</td>\n",
       "    </tr>\n",
       "    <tr>\n",
       "      <th>1</th>\n",
       "      <td>9.998942</td>\n",
       "      <td>0.785795</td>\n",
       "      <td>6.109844</td>\n",
       "      <td>-1.930751</td>\n",
       "    </tr>\n",
       "    <tr>\n",
       "      <th>2</th>\n",
       "      <td>9.104448</td>\n",
       "      <td>-1.906847</td>\n",
       "      <td>-3.595214</td>\n",
       "      <td>-4.906240</td>\n",
       "    </tr>\n",
       "    <tr>\n",
       "      <th>3</th>\n",
       "      <td>3.596761</td>\n",
       "      <td>8.534413</td>\n",
       "      <td>-0.432684</td>\n",
       "      <td>5.181858</td>\n",
       "    </tr>\n",
       "    <tr>\n",
       "      <th>4</th>\n",
       "      <td>-9.740232</td>\n",
       "      <td>5.565501</td>\n",
       "      <td>7.609525</td>\n",
       "      <td>-6.150188</td>\n",
       "    </tr>\n",
       "  </tbody>\n",
       "</table>\n",
       "</div>"
      ],
      "text/plain": [
       "        Yay  specific    column     names\n",
       "0  8.616097  4.188456 -1.824472  8.336657\n",
       "1  9.998942  0.785795  6.109844 -1.930751\n",
       "2  9.104448 -1.906847 -3.595214 -4.906240\n",
       "3  3.596761  8.534413 -0.432684  5.181858\n",
       "4 -9.740232  5.565501  7.609525 -6.150188"
      ]
     },
     "execution_count": 14,
     "metadata": {},
     "output_type": "execute_result"
    }
   ],
   "source": [
    "import pandas as pd\n",
    "import numpy as np\n",
    "\n",
    "df = pd.DataFrame(np.random.uniform(-10,10, size=(100,4)), columns=['Yay','specific','column','names'])\n",
    "df.head(5)"
   ]
  },
  {
   "cell_type": "code",
   "execution_count": 15,
   "metadata": {},
   "outputs": [],
   "source": [
    "with open('my_dataframe.pickle', 'wb') as to_write:\n",
    "    pickle.dump(df, to_write)"
   ]
  },
  {
   "cell_type": "code",
   "execution_count": 16,
   "metadata": {},
   "outputs": [
    {
     "ename": "NameError",
     "evalue": "name 'df' is not defined",
     "output_type": "error",
     "traceback": [
      "\u001b[0;31m---------------------------------------------------------------------------\u001b[0m",
      "\u001b[0;31mNameError\u001b[0m                                 Traceback (most recent call last)",
      "\u001b[0;32m<ipython-input-16-3975f6306adf>\u001b[0m in \u001b[0;36m<module>\u001b[0;34m\u001b[0m\n\u001b[1;32m      1\u001b[0m \u001b[0;32mdel\u001b[0m \u001b[0mdf\u001b[0m\u001b[0;34m\u001b[0m\u001b[0;34m\u001b[0m\u001b[0m\n\u001b[1;32m      2\u001b[0m \u001b[0;34m\u001b[0m\u001b[0m\n\u001b[0;32m----> 3\u001b[0;31m \u001b[0mdf\u001b[0m\u001b[0;34m.\u001b[0m\u001b[0mhead\u001b[0m\u001b[0;34m(\u001b[0m\u001b[0;36m5\u001b[0m\u001b[0;34m)\u001b[0m\u001b[0;34m\u001b[0m\u001b[0;34m\u001b[0m\u001b[0m\n\u001b[0m",
      "\u001b[0;31mNameError\u001b[0m: name 'df' is not defined"
     ]
    }
   ],
   "source": [
    "del df\n",
    "\n",
    "df.head(5)"
   ]
  },
  {
   "cell_type": "code",
   "execution_count": 17,
   "metadata": {},
   "outputs": [
    {
     "data": {
      "text/html": [
       "<div>\n",
       "<style scoped>\n",
       "    .dataframe tbody tr th:only-of-type {\n",
       "        vertical-align: middle;\n",
       "    }\n",
       "\n",
       "    .dataframe tbody tr th {\n",
       "        vertical-align: top;\n",
       "    }\n",
       "\n",
       "    .dataframe thead th {\n",
       "        text-align: right;\n",
       "    }\n",
       "</style>\n",
       "<table border=\"1\" class=\"dataframe\">\n",
       "  <thead>\n",
       "    <tr style=\"text-align: right;\">\n",
       "      <th></th>\n",
       "      <th>Yay</th>\n",
       "      <th>specific</th>\n",
       "      <th>column</th>\n",
       "      <th>names</th>\n",
       "    </tr>\n",
       "  </thead>\n",
       "  <tbody>\n",
       "    <tr>\n",
       "      <th>0</th>\n",
       "      <td>8.616097</td>\n",
       "      <td>4.188456</td>\n",
       "      <td>-1.824472</td>\n",
       "      <td>8.336657</td>\n",
       "    </tr>\n",
       "    <tr>\n",
       "      <th>1</th>\n",
       "      <td>9.998942</td>\n",
       "      <td>0.785795</td>\n",
       "      <td>6.109844</td>\n",
       "      <td>-1.930751</td>\n",
       "    </tr>\n",
       "    <tr>\n",
       "      <th>2</th>\n",
       "      <td>9.104448</td>\n",
       "      <td>-1.906847</td>\n",
       "      <td>-3.595214</td>\n",
       "      <td>-4.906240</td>\n",
       "    </tr>\n",
       "    <tr>\n",
       "      <th>3</th>\n",
       "      <td>3.596761</td>\n",
       "      <td>8.534413</td>\n",
       "      <td>-0.432684</td>\n",
       "      <td>5.181858</td>\n",
       "    </tr>\n",
       "    <tr>\n",
       "      <th>4</th>\n",
       "      <td>-9.740232</td>\n",
       "      <td>5.565501</td>\n",
       "      <td>7.609525</td>\n",
       "      <td>-6.150188</td>\n",
       "    </tr>\n",
       "  </tbody>\n",
       "</table>\n",
       "</div>"
      ],
      "text/plain": [
       "        Yay  specific    column     names\n",
       "0  8.616097  4.188456 -1.824472  8.336657\n",
       "1  9.998942  0.785795  6.109844 -1.930751\n",
       "2  9.104448 -1.906847 -3.595214 -4.906240\n",
       "3  3.596761  8.534413 -0.432684  5.181858\n",
       "4 -9.740232  5.565501  7.609525 -6.150188"
      ]
     },
     "execution_count": 17,
     "metadata": {},
     "output_type": "execute_result"
    }
   ],
   "source": [
    "with open('my_dataframe.pickle','rb') as read_file:\n",
    "    new_df = pickle.load(read_file)\n",
    "    \n",
    "new_df.head(5)"
   ]
  },
  {
   "cell_type": "markdown",
   "metadata": {},
   "source": [
    "Pickle is a great tool. One recommended way of using it is to make it an end point of every step in your process. Example:\n",
    "\n",
    "* I got my data! Nice. Pickle it and stop your \"getting the data\" notebook.\n",
    "* Load your data from pickle. Clean it. Save your clean data to a new pickle.\n",
    "* Load your cleaned_data pickle. Do analysis and visualize it.\n",
    "\n",
    "This can provide natural \"pick-up-where-I-left-off-but-before-I-broke-my-data\" points. It's a great way to control the flow of your data.\n",
    "\n",
    "#### Resources\n",
    "\n",
    "https://docs.python.org/3.7/library/pickle.html"
   ]
  },
  {
   "cell_type": "markdown",
   "metadata": {},
   "source": [
    "### More pickle testing since those files already existed: "
   ]
  },
  {
   "cell_type": "code",
   "execution_count": 29,
   "metadata": {},
   "outputs": [
    {
     "data": {
      "text/html": [
       "<div>\n",
       "<style scoped>\n",
       "    .dataframe tbody tr th:only-of-type {\n",
       "        vertical-align: middle;\n",
       "    }\n",
       "\n",
       "    .dataframe tbody tr th {\n",
       "        vertical-align: top;\n",
       "    }\n",
       "\n",
       "    .dataframe thead th {\n",
       "        text-align: right;\n",
       "    }\n",
       "</style>\n",
       "<table border=\"1\" class=\"dataframe\">\n",
       "  <thead>\n",
       "    <tr style=\"text-align: right;\">\n",
       "      <th></th>\n",
       "      <th>These</th>\n",
       "      <th>puppies</th>\n",
       "      <th>are</th>\n",
       "      <th>columns</th>\n",
       "    </tr>\n",
       "  </thead>\n",
       "  <tbody>\n",
       "    <tr>\n",
       "      <th>0</th>\n",
       "      <td>-6.864736</td>\n",
       "      <td>-8.109308</td>\n",
       "      <td>-3.405733</td>\n",
       "      <td>-1.689295</td>\n",
       "    </tr>\n",
       "    <tr>\n",
       "      <th>1</th>\n",
       "      <td>8.289833</td>\n",
       "      <td>7.152339</td>\n",
       "      <td>-7.960152</td>\n",
       "      <td>9.282634</td>\n",
       "    </tr>\n",
       "    <tr>\n",
       "      <th>2</th>\n",
       "      <td>-7.538788</td>\n",
       "      <td>7.232463</td>\n",
       "      <td>9.824188</td>\n",
       "      <td>6.098662</td>\n",
       "    </tr>\n",
       "    <tr>\n",
       "      <th>3</th>\n",
       "      <td>-9.743255</td>\n",
       "      <td>-0.068658</td>\n",
       "      <td>5.455818</td>\n",
       "      <td>-6.661309</td>\n",
       "    </tr>\n",
       "    <tr>\n",
       "      <th>4</th>\n",
       "      <td>4.015507</td>\n",
       "      <td>-0.633315</td>\n",
       "      <td>5.254363</td>\n",
       "      <td>3.117177</td>\n",
       "    </tr>\n",
       "  </tbody>\n",
       "</table>\n",
       "</div>"
      ],
      "text/plain": [
       "      These   puppies       are   columns\n",
       "0 -6.864736 -8.109308 -3.405733 -1.689295\n",
       "1  8.289833  7.152339 -7.960152  9.282634\n",
       "2 -7.538788  7.232463  9.824188  6.098662\n",
       "3 -9.743255 -0.068658  5.455818 -6.661309\n",
       "4  4.015507 -0.633315  5.254363  3.117177"
      ]
     },
     "execution_count": 29,
     "metadata": {},
     "output_type": "execute_result"
    }
   ],
   "source": [
    "# Create data frame\n",
    "cddf = pd.DataFrame(np.random.uniform(-10,10, size=(100,4)), columns=['These','puppies','are','columns'])\n",
    "cddf.head(5)\n"
   ]
  },
  {
   "cell_type": "code",
   "execution_count": 30,
   "metadata": {},
   "outputs": [],
   "source": [
    "# Create pickle file\n",
    "with open('cd_dataframe.pickle', 'wb') as to_write:\n",
    "    pickle.dump(cddf, to_write)"
   ]
  },
  {
   "cell_type": "code",
   "execution_count": 31,
   "metadata": {},
   "outputs": [],
   "source": [
    "# delete new data frame\n",
    "del cddf"
   ]
  },
  {
   "cell_type": "code",
   "execution_count": 32,
   "metadata": {},
   "outputs": [
    {
     "ename": "NameError",
     "evalue": "name 'cddf' is not defined",
     "output_type": "error",
     "traceback": [
      "\u001b[0;31m---------------------------------------------------------------------------\u001b[0m",
      "\u001b[0;31mNameError\u001b[0m                                 Traceback (most recent call last)",
      "\u001b[0;32m<ipython-input-32-5544f2e972d9>\u001b[0m in \u001b[0;36m<module>\u001b[0;34m\u001b[0m\n\u001b[1;32m      1\u001b[0m \u001b[0;31m# Check to see if df still exists\u001b[0m\u001b[0;34m\u001b[0m\u001b[0;34m\u001b[0m\u001b[0;34m\u001b[0m\u001b[0m\n\u001b[0;32m----> 2\u001b[0;31m \u001b[0mcddf\u001b[0m\u001b[0;34m.\u001b[0m\u001b[0mhead\u001b[0m\u001b[0;34m(\u001b[0m\u001b[0;36m5\u001b[0m\u001b[0;34m)\u001b[0m\u001b[0;34m\u001b[0m\u001b[0;34m\u001b[0m\u001b[0m\n\u001b[0m",
      "\u001b[0;31mNameError\u001b[0m: name 'cddf' is not defined"
     ]
    }
   ],
   "source": [
    "# Check to see if df still exists\n",
    "cddf.head(5)"
   ]
  },
  {
   "cell_type": "code",
   "execution_count": 34,
   "metadata": {},
   "outputs": [
    {
     "data": {
      "text/html": [
       "<div>\n",
       "<style scoped>\n",
       "    .dataframe tbody tr th:only-of-type {\n",
       "        vertical-align: middle;\n",
       "    }\n",
       "\n",
       "    .dataframe tbody tr th {\n",
       "        vertical-align: top;\n",
       "    }\n",
       "\n",
       "    .dataframe thead th {\n",
       "        text-align: right;\n",
       "    }\n",
       "</style>\n",
       "<table border=\"1\" class=\"dataframe\">\n",
       "  <thead>\n",
       "    <tr style=\"text-align: right;\">\n",
       "      <th></th>\n",
       "      <th>These</th>\n",
       "      <th>puppies</th>\n",
       "      <th>are</th>\n",
       "      <th>columns</th>\n",
       "    </tr>\n",
       "  </thead>\n",
       "  <tbody>\n",
       "    <tr>\n",
       "      <th>0</th>\n",
       "      <td>-6.864736</td>\n",
       "      <td>-8.109308</td>\n",
       "      <td>-3.405733</td>\n",
       "      <td>-1.689295</td>\n",
       "    </tr>\n",
       "    <tr>\n",
       "      <th>1</th>\n",
       "      <td>8.289833</td>\n",
       "      <td>7.152339</td>\n",
       "      <td>-7.960152</td>\n",
       "      <td>9.282634</td>\n",
       "    </tr>\n",
       "    <tr>\n",
       "      <th>2</th>\n",
       "      <td>-7.538788</td>\n",
       "      <td>7.232463</td>\n",
       "      <td>9.824188</td>\n",
       "      <td>6.098662</td>\n",
       "    </tr>\n",
       "    <tr>\n",
       "      <th>3</th>\n",
       "      <td>-9.743255</td>\n",
       "      <td>-0.068658</td>\n",
       "      <td>5.455818</td>\n",
       "      <td>-6.661309</td>\n",
       "    </tr>\n",
       "    <tr>\n",
       "      <th>4</th>\n",
       "      <td>4.015507</td>\n",
       "      <td>-0.633315</td>\n",
       "      <td>5.254363</td>\n",
       "      <td>3.117177</td>\n",
       "    </tr>\n",
       "  </tbody>\n",
       "</table>\n",
       "</div>"
      ],
      "text/plain": [
       "      These   puppies       are   columns\n",
       "0 -6.864736 -8.109308 -3.405733 -1.689295\n",
       "1  8.289833  7.152339 -7.960152  9.282634\n",
       "2 -7.538788  7.232463  9.824188  6.098662\n",
       "3 -9.743255 -0.068658  5.455818 -6.661309\n",
       "4  4.015507 -0.633315  5.254363  3.117177"
      ]
     },
     "execution_count": 34,
     "metadata": {},
     "output_type": "execute_result"
    }
   ],
   "source": [
    "with open('cd_dataframe.pickle','rb') as read_file:\n",
    "    new_cddf = pickle.load(read_file)\n",
    "    \n",
    "new_cddf.head(5)"
   ]
  },
  {
   "cell_type": "code",
   "execution_count": 35,
   "metadata": {
    "scrolled": true
   },
   "outputs": [
    {
     "name": "stdout",
     "output_type": "stream",
     "text": [
      "advanced_python_datatypes.ipynb       my_dataframe.pickle\r\n",
      "cd_dataframe.pickle                   noise.pickle\r\n",
      "complexity.md                         pickle_saving_objects_for_later.ipynb\r\n",
      "deep_and_shallow_copy.ipynb           readme.md\r\n",
      "\u001b[1m\u001b[36mdeep_copy_demo\u001b[m\u001b[m\r\n"
     ]
    }
   ],
   "source": [
    "!ls"
   ]
  },
  {
   "cell_type": "markdown",
   "metadata": {},
   "source": [
    "## Some more notes\n",
    "\n",
    "### What can you do with pickle?\n",
    "Pickling is useful for applications where you need some degree of persistency in your data. Your program's state data can be saved to disk, so you can continue working on it later on. It can also be used to send data over a Transmission Control Protocol (TCP) or socket connection, or to store python objects in a database. Pickle is very useful for when you're working with machine learning algorithms, where you want to save them to be able to make new predictions at a later time, without having to rewrite everything or train the model all over again.\n",
    "\n",
    "### What can be pickled? \n",
    "* Booleans,\n",
    "* Integers,\n",
    "* Floats,\n",
    "* Complex numbers,\n",
    "* Strings (normal and Unicode),\n",
    "* Tuples,\n",
    "* Lists,\n",
    "* Sets, and\n",
    "* Dictionaries that ontain picklable objects.\n",
    "\n",
    "All the above can be pickled, but you can also do the same for classes and functions, for example, if they are defined at the top level of a module.\n",
    "\n",
    "Not everything can be pickled (easily), though: examples of this are generators, inner classes, lambda functions and `defaultdicts`. In the case of lambda functions, you need to use an additional package named dill. With `defaultdicts`, you need to create them with a module-level function.\n",
    "\n",
    "## Further Reading\n",
    "* [Python Wiki: Using Pickle](https://wiki.python.org/moin/UsingPickle)\n",
    "* [Python Docs: Pickle](https://docs.python.org/3/library/pickle.html)\n",
    "* [Real Python: Python Pickle Module](https://realpython.com/python-pickle-module/)\n",
    "* [Data Camp: Pickle Python Tutorial](https://www.datacamp.com/community/tutorials/pickle-python-tutorial)"
   ]
  },
  {
   "cell_type": "code",
   "execution_count": null,
   "metadata": {},
   "outputs": [],
   "source": []
  },
  {
   "cell_type": "code",
   "execution_count": null,
   "metadata": {},
   "outputs": [],
   "source": []
  },
  {
   "cell_type": "code",
   "execution_count": null,
   "metadata": {},
   "outputs": [],
   "source": []
  },
  {
   "cell_type": "code",
   "execution_count": null,
   "metadata": {},
   "outputs": [],
   "source": []
  }
 ],
 "metadata": {
  "kernelspec": {
   "display_name": "Python 3",
   "language": "python",
   "name": "python3"
  },
  "language_info": {
   "codemirror_mode": {
    "name": "ipython",
    "version": 3
   },
   "file_extension": ".py",
   "mimetype": "text/x-python",
   "name": "python",
   "nbconvert_exporter": "python",
   "pygments_lexer": "ipython3",
   "version": "3.8.3"
  }
 },
 "nbformat": 4,
 "nbformat_minor": 1
}
