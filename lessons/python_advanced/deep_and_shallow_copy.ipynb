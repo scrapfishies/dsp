{
 "cells": [
  {
   "cell_type": "code",
   "execution_count": 1,
   "metadata": {},
   "outputs": [
    {
     "name": "stdout",
     "output_type": "stream",
     "text": [
      "Python Version: 3.8.3 (default, Jul  2 2020, 11:26:31) \n",
      "[Clang 10.0.0 ] \n",
      "\n"
     ]
    }
   ],
   "source": [
    "import sys\n",
    "print(\"Python Version:\", sys.version, '\\n')"
   ]
  },
  {
   "cell_type": "markdown",
   "metadata": {},
   "source": [
    "# Deep and Shallow Copy"
   ]
  },
  {
   "cell_type": "markdown",
   "metadata": {},
   "source": [
    "The way Python treats variables is a bit frustrating at times. We're going to fully examine how it works today. The first thing to remember is that the variable doesn't contain the value. What it contains is the memory location of the value. So we'll need to play some games to make sure we get what we want when assigning things to variables.\n",
    "\n",
    "Let's start by looking at an example with just an integer."
   ]
  },
  {
   "cell_type": "code",
   "execution_count": 2,
   "metadata": {},
   "outputs": [
    {
     "name": "stdout",
     "output_type": "stream",
     "text": [
      "5\n",
      "12\n"
     ]
    }
   ],
   "source": [
    "a = 5\n",
    "b = a\n",
    "a = a + 7\n",
    "\n",
    "print(b)\n",
    "print(a)"
   ]
  },
  {
   "cell_type": "markdown",
   "metadata": {},
   "source": [
    "Well, that behaved about as we expected. Now let's try it with a list."
   ]
  },
  {
   "cell_type": "code",
   "execution_count": 3,
   "metadata": {},
   "outputs": [
    {
     "name": "stdout",
     "output_type": "stream",
     "text": [
      "[1, 2, 3, 4]\n"
     ]
    }
   ],
   "source": [
    "a = [1,2,3,4]\n",
    "b = a\n",
    "print(b)"
   ]
  },
  {
   "cell_type": "code",
   "execution_count": 4,
   "metadata": {},
   "outputs": [
    {
     "name": "stdout",
     "output_type": "stream",
     "text": [
      "[1, 2, 3, 4, 7]\n"
     ]
    }
   ],
   "source": [
    "a.append(7)\n",
    "print(b)"
   ]
  },
  {
   "cell_type": "markdown",
   "metadata": {},
   "source": [
    "Whoa. Changing `a`, actually changed `b`. Is that what we expected. What if we do this one?"
   ]
  },
  {
   "cell_type": "code",
   "execution_count": 5,
   "metadata": {},
   "outputs": [
    {
     "name": "stdout",
     "output_type": "stream",
     "text": [
      "[1, 2, 3, 4, 7]\n"
     ]
    }
   ],
   "source": [
    "a = [5,6,7,8]\n",
    "print(b)"
   ]
  },
  {
   "cell_type": "code",
   "execution_count": 6,
   "metadata": {},
   "outputs": [
    {
     "name": "stdout",
     "output_type": "stream",
     "text": [
      "[5, 2, 3, 4]\n"
     ]
    }
   ],
   "source": [
    "a = [1,2,3,4]\n",
    "b = a\n",
    "a[0] = 5\n",
    "print(b)"
   ]
  },
  {
   "cell_type": "markdown",
   "metadata": {},
   "source": [
    "<img src=\"deep_copy_demo/deep_copy_demo.001.jpeg\"  style=\"max-width:50%; float:right;\">\n",
    "\n",
    "Python variables work by assigning *names* to values.\n",
    "\n",
    "* Immutable objects (int, float, tuple, etc) live in one spot in memory, and multiple names can point to them.\n",
    "* Mutable ojects (lists, dictionaries, dataframes) are the same, but you can change them, so changing what one name \"holds\" affects what other \"names\" access.\n",
    "\n",
    "So changing one might affect the other. Let's look at a cartoon of the memory.\n"
   ]
  },
  {
   "cell_type": "markdown",
   "metadata": {},
   "source": [
    "What if we want to make a new list that looks like `a`? Will it do the same thing as above?"
   ]
  },
  {
   "cell_type": "code",
   "execution_count": 7,
   "metadata": {},
   "outputs": [
    {
     "name": "stdout",
     "output_type": "stream",
     "text": [
      "[4, 2, 3, 4]\n",
      "[1, 2, 3, 4]\n"
     ]
    }
   ],
   "source": [
    "a = [1,2,3,4]\n",
    "b = list(a)\n",
    "a[0] = 4\n",
    "print(a)\n",
    "print(b)"
   ]
  },
  {
   "cell_type": "markdown",
   "metadata": {},
   "source": [
    "<img src=\"deep_copy_demo/deep_copy_demo.002.jpeg\"  style=\"max-width:50%; float:right;\">\n",
    "\n",
    "Wait, why did that work?\n",
    "\n"
   ]
  },
  {
   "cell_type": "markdown",
   "metadata": {},
   "source": [
    "When we called `list(a)`, we called a ***constructor*** which asked Python to make a whole new list of the values `a` contained. That's great. \n",
    "\n",
    "#### So if that's the case, something like this should work."
   ]
  },
  {
   "cell_type": "code",
   "execution_count": 8,
   "metadata": {},
   "outputs": [
    {
     "name": "stdout",
     "output_type": "stream",
     "text": [
      "[1, 2, [3, 4], 5]\n",
      "[1, 2, [3, 4], 5]\n",
      "[1, 2, [1, 4], 5]\n"
     ]
    }
   ],
   "source": [
    "a = [1,2,[3,4],5]\n",
    "b = list(a)\n",
    "print(b)\n",
    "\n",
    "# b is unaffected\n",
    "a[0] = 7\n",
    "print(b)\n",
    "\n",
    "# Here b is affected: \n",
    "a[2][0] = 1\n",
    "print(b)"
   ]
  },
  {
   "cell_type": "markdown",
   "metadata": {},
   "source": [
    "<img src=\"deep_copy_demo/deep_copy_demo.003.jpeg\" style=\"max-width:50%; float:right;\">\n",
    "\n",
    "Well. Uhh. That's weird then. What's happened? Let's go back to our cartoon of the memory.\n",
    "\n",
    "The copy we made made a copy of each element, including the list, however it made an exact copy of the list. Meaning, the list it made just points to the same elements that the list in `a` does. The nested structure didn't get a duplicate made, just the top-level list. \n",
    "\n",
    "So our ***nested data*** (the integers inside the second list) is *still just at one specific location in memory*. So our copies *share an address that they point to*."
   ]
  },
  {
   "cell_type": "markdown",
   "metadata": {},
   "source": [
    "This is known as a \"shallow copy.\" From the documentation on different types of copying:\n",
    "\n",
    ">The difference between shallow and deep copying is only relevant for **compound objects** (objects that contain other objects, like lists or class instances):\n",
    ">\n",
    ">- A **shallow copy** constructs a new compound object and then (to the extent possible) *inserts references* into it to the objects found in the original.\n",
    ">- A **deep copy** constructs a new compound object and then, recursively, inserts *copies* into it of the objects found in the original."
   ]
  },
  {
   "cell_type": "code",
   "execution_count": 9,
   "metadata": {},
   "outputs": [
    {
     "name": "stdout",
     "output_type": "stream",
     "text": [
      "[5, 2, [3, 6], 4, 5]\n",
      "[1, 2, [3, 6], 4, 5]\n"
     ]
    }
   ],
   "source": [
    "a = [1,2,[3,6],4,5]\n",
    "b = list(a)\n",
    "a[0] = 5\n",
    "\n",
    "print(a)\n",
    "print(b) # Note that b doesn't change it's 0th spot"
   ]
  },
  {
   "cell_type": "code",
   "execution_count": 10,
   "metadata": {},
   "outputs": [
    {
     "name": "stdout",
     "output_type": "stream",
     "text": [
      "[5, 2, [9, 6], 4, 5]\n",
      "[1, 2, [9, 6], 4, 5]\n"
     ]
    }
   ],
   "source": [
    "a[2][0] = 9\n",
    "\n",
    "print(a)\n",
    "print(b) # Note that b does change it's internal list spot 0!"
   ]
  },
  {
   "cell_type": "code",
   "execution_count": 11,
   "metadata": {},
   "outputs": [],
   "source": [
    "from copy import deepcopy\n",
    "a = [1,2,[3,6],4,5]\n",
    "b = deepcopy(a)"
   ]
  },
  {
   "cell_type": "code",
   "execution_count": 12,
   "metadata": {},
   "outputs": [
    {
     "name": "stdout",
     "output_type": "stream",
     "text": [
      "[1, 2, [9, 6], 4, 5]\n",
      "[1, 2, [3, 6], 4, 5]\n"
     ]
    }
   ],
   "source": [
    "a[2][0] = 9\n",
    "\n",
    "print(a)\n",
    "print(b) # Note that it doesn't change once we deep copy!"
   ]
  },
  {
   "cell_type": "markdown",
   "metadata": {},
   "source": [
    "<img src=\"deep_copy_demo/deep_copy_demo.004.jpeg\"  style=\"max-width:50%; float:right;\">\n",
    "Deep copy takes up more memory than a shallow copy, as it recreates *everything* recursively. However, that can be safer and necessary when working with highly nested data. If in doubt, deep copy. Unless the data's huge.\n",
    "\n",
    "In cartoon format, our deep copy looks like:\n",
    "\n",
    "\n",
    "### Additional Resources:\n",
    "- [Python Documentation](https://docs.python.org/2/library/copy.html)\n",
    "- [Video of copy types](https://www.google.com/url?sa=t&rct=j&q=&esrc=s&source=video&cd=2&cad=rja&uact=8&ved=0ahUKEwiH78iJkOLYAhVE7GMKHb3ODmsQtwIILTAB&url=https%3A%2F%2Fwww.youtube.com%2Fwatch%3Fv%3Di7ePjqf6Y-Y&usg=AOvVaw3pH-AYImBuStUn91Ap_gz4)"
   ]
  },
  {
   "cell_type": "markdown",
   "metadata": {},
   "source": [
    "### [Differences between Hard Copy, Shallow Copy, and Deep Copy in Python](https://www.youtube.com/watch?v=i7ePjqf6Y-Y)\n",
    "\n",
    "*(Video from 'Additional Resources' above)*"
   ]
  },
  {
   "cell_type": "code",
   "execution_count": 13,
   "metadata": {},
   "outputs": [],
   "source": [
    "par_list = [1, 2, 3, 4, 5]\n",
    "child_list = par_list"
   ]
  },
  {
   "cell_type": "markdown",
   "metadata": {},
   "source": [
    "Using the `==` operator to check that the values are the same: "
   ]
  },
  {
   "cell_type": "code",
   "execution_count": 14,
   "metadata": {},
   "outputs": [
    {
     "data": {
      "text/plain": [
       "True"
      ]
     },
     "execution_count": 14,
     "metadata": {},
     "output_type": "execute_result"
    }
   ],
   "source": [
    "par_list == child_list"
   ]
  },
  {
   "cell_type": "markdown",
   "metadata": {},
   "source": [
    "Using the `is` operator to check **object label identity** -- that is, stored in the same ***memory location***. "
   ]
  },
  {
   "cell_type": "code",
   "execution_count": 15,
   "metadata": {
    "scrolled": true
   },
   "outputs": [
    {
     "data": {
      "text/plain": [
       "True"
      ]
     },
     "execution_count": 15,
     "metadata": {},
     "output_type": "execute_result"
    }
   ],
   "source": [
    "par_list is child_list"
   ]
  },
  {
   "cell_type": "code",
   "execution_count": 16,
   "metadata": {},
   "outputs": [
    {
     "data": {
      "text/plain": [
       "[1, 2, 'scrapfish', 4, 5]"
      ]
     },
     "execution_count": 16,
     "metadata": {},
     "output_type": "execute_result"
    }
   ],
   "source": [
    "# changing a valuein par_list\n",
    "\n",
    "par_list[2] = 'scrapfish'\n",
    "par_list"
   ]
  },
  {
   "cell_type": "code",
   "execution_count": 17,
   "metadata": {},
   "outputs": [
    {
     "data": {
      "text/plain": [
       "[1, 2, 'scrapfish', 4, 5]"
      ]
     },
     "execution_count": 17,
     "metadata": {},
     "output_type": "execute_result"
    }
   ],
   "source": [
    "# Referencing side effect -- child_list is also modified: \n",
    "child_list"
   ]
  },
  {
   "cell_type": "code",
   "execution_count": 18,
   "metadata": {},
   "outputs": [
    {
     "data": {
      "text/plain": [
       "['kristoff', 2, 'scrapfish', 4, 5]"
      ]
     },
     "execution_count": 18,
     "metadata": {},
     "output_type": "execute_result"
    }
   ],
   "source": [
    "child_list[0] = 'kristoff'\n",
    "child_list"
   ]
  },
  {
   "cell_type": "code",
   "execution_count": 19,
   "metadata": {},
   "outputs": [
    {
     "data": {
      "text/plain": [
       "['kristoff', 2, 'scrapfish', 4, 5]"
      ]
     },
     "execution_count": 19,
     "metadata": {},
     "output_type": "execute_result"
    }
   ],
   "source": [
    "# par_list is also affected\n",
    "par_list"
   ]
  },
  {
   "cell_type": "markdown",
   "metadata": {},
   "source": [
    "This is because both lists have the same **object label identity** -- they are stored in the *same memory location*.\n",
    "\n",
    "#### Using shallow copy and deep copy\n",
    "`import copy`  \n",
    "* `shallow copy` ----->  `copy.copy()`\n",
    "* `deep copy`    ----->  `copy.deepcopy()`"
   ]
  },
  {
   "cell_type": "code",
   "execution_count": 20,
   "metadata": {},
   "outputs": [],
   "source": [
    "import copy"
   ]
  },
  {
   "cell_type": "code",
   "execution_count": 21,
   "metadata": {},
   "outputs": [],
   "source": [
    "par_list = [1, 2, 3, 4, 5]\n",
    "\n",
    "# variable reassignment // or traditional 'copy'\n",
    "child_list1 = par_list\n",
    "\n",
    "# shallow copy\n",
    "child_list2 = copy.copy(par_list)\n",
    "\n",
    "# deep copy --- the copy. part is optional\n",
    "child_list3 = copy.deepcopy(par_list)"
   ]
  },
  {
   "cell_type": "code",
   "execution_count": 22,
   "metadata": {},
   "outputs": [
    {
     "data": {
      "text/plain": [
       "True"
      ]
     },
     "execution_count": 22,
     "metadata": {},
     "output_type": "execute_result"
    }
   ],
   "source": [
    "# Checking values\n",
    "par_list == child_list1 == child_list2 == child_list3"
   ]
  },
  {
   "cell_type": "code",
   "execution_count": 23,
   "metadata": {},
   "outputs": [
    {
     "data": {
      "text/plain": [
       "False"
      ]
     },
     "execution_count": 23,
     "metadata": {},
     "output_type": "execute_result"
    }
   ],
   "source": [
    "# checking memory location: \n",
    "par_list is child_list1 is child_list2 is child_list3"
   ]
  },
  {
   "cell_type": "code",
   "execution_count": 24,
   "metadata": {},
   "outputs": [
    {
     "data": {
      "text/plain": [
       "True"
      ]
     },
     "execution_count": 24,
     "metadata": {},
     "output_type": "execute_result"
    }
   ],
   "source": [
    "par_list is child_list1"
   ]
  },
  {
   "cell_type": "code",
   "execution_count": 25,
   "metadata": {},
   "outputs": [
    {
     "data": {
      "text/plain": [
       "False"
      ]
     },
     "execution_count": 25,
     "metadata": {},
     "output_type": "execute_result"
    }
   ],
   "source": [
    "par_list is child_list2"
   ]
  },
  {
   "cell_type": "code",
   "execution_count": 26,
   "metadata": {},
   "outputs": [
    {
     "data": {
      "text/plain": [
       "False"
      ]
     },
     "execution_count": 26,
     "metadata": {},
     "output_type": "execute_result"
    }
   ],
   "source": [
    "par_list is child_list3"
   ]
  },
  {
   "cell_type": "code",
   "execution_count": 27,
   "metadata": {},
   "outputs": [
    {
     "data": {
      "text/plain": [
       "False"
      ]
     },
     "execution_count": 27,
     "metadata": {},
     "output_type": "execute_result"
    }
   ],
   "source": [
    "child_list2 is child_list3"
   ]
  },
  {
   "cell_type": "markdown",
   "metadata": {},
   "source": [
    "So the **shallow copy** and the **deep copy** are both at *different* memory locations than the original list and the traditional copy. \n",
    "\n",
    "Let's test out changing some values in `par_list` and see how it affects our copies: "
   ]
  },
  {
   "cell_type": "code",
   "execution_count": 28,
   "metadata": {},
   "outputs": [
    {
     "data": {
      "text/plain": [
       "[1, 2, 3, 'new', 5]"
      ]
     },
     "execution_count": 28,
     "metadata": {},
     "output_type": "execute_result"
    }
   ],
   "source": [
    "par_list[3] = 'new'\n",
    "par_list"
   ]
  },
  {
   "cell_type": "code",
   "execution_count": 29,
   "metadata": {},
   "outputs": [
    {
     "name": "stdout",
     "output_type": "stream",
     "text": [
      "Variable Reassignment\n",
      "[1, 2, 3, 'new', 5]\n",
      "\n",
      "Shallow Copy\n",
      "[1, 2, 3, 4, 5]\n",
      "\n",
      "Deep Copy\n",
      "[1, 2, 3, 4, 5]\n"
     ]
    }
   ],
   "source": [
    "print(\"Variable Reassignment\")\n",
    "print(child_list1)\n",
    "print(\"\\nShallow Copy\")\n",
    "print(child_list2)\n",
    "print(\"\\nDeep Copy\")\n",
    "print(child_list3)"
   ]
  },
  {
   "cell_type": "markdown",
   "metadata": {},
   "source": [
    "Now to test some imbedded lists -- ***nested data***"
   ]
  },
  {
   "cell_type": "code",
   "execution_count": 30,
   "metadata": {},
   "outputs": [],
   "source": [
    "par_list = [1, 2, 3, [4, 5, [6, 7]]]"
   ]
  },
  {
   "cell_type": "code",
   "execution_count": 31,
   "metadata": {},
   "outputs": [],
   "source": [
    "# Make 3 copies: traditional, shallow, and deep\n",
    "child_list1 = par_list\n",
    "child_list2 = copy.copy(par_list)\n",
    "child_list3 = copy.deepcopy(par_list)"
   ]
  },
  {
   "cell_type": "code",
   "execution_count": 32,
   "metadata": {},
   "outputs": [
    {
     "data": {
      "text/plain": [
       "7"
      ]
     },
     "execution_count": 32,
     "metadata": {},
     "output_type": "execute_result"
    }
   ],
   "source": [
    "par_list[3][2][1]"
   ]
  },
  {
   "cell_type": "code",
   "execution_count": 33,
   "metadata": {
    "scrolled": true
   },
   "outputs": [
    {
     "data": {
      "text/plain": [
       "[1, 2, 3, ['four', 5, [6, 7]]]"
      ]
     },
     "execution_count": 33,
     "metadata": {},
     "output_type": "execute_result"
    }
   ],
   "source": [
    "par_list[3][0] = 'four'\n",
    "par_list"
   ]
  },
  {
   "cell_type": "code",
   "execution_count": 35,
   "metadata": {},
   "outputs": [
    {
     "name": "stdout",
     "output_type": "stream",
     "text": [
      "Variable Reassignment Copy\n",
      "[1, 2, 3, ['four', 5, [6, 7]]]\n",
      "\n",
      "Shallow Copy\n",
      "[1, 2, 3, ['four', 5, [6, 7]]]\n",
      "\n",
      "Deep Copy\n",
      "[1, 2, 3, [4, 5, [6, 7]]]\n"
     ]
    }
   ],
   "source": [
    "print(\"Variable Reassignment Copy\")\n",
    "print(child_list1)\n",
    "print(\"\\nShallow Copy\")\n",
    "print(child_list2)\n",
    "print(\"\\nDeep Copy\")\n",
    "print(child_list3)"
   ]
  },
  {
   "cell_type": "markdown",
   "metadata": {},
   "source": [
    "Variable reassignment 'copies' will not preserve any layers of data because they share the same memory location as the original. \n",
    "\n",
    "Creating a **shallow copy** will perserve 'first layer' or 'superficial' data, but *not* **nested data**. \n",
    "\n",
    "And a deep copy will preserve *all* layers of data -- nested included!"
   ]
  },
  {
   "cell_type": "markdown",
   "metadata": {},
   "source": [
    "#### Augmented Assignment and shared references"
   ]
  },
  {
   "cell_type": "code",
   "execution_count": 37,
   "metadata": {},
   "outputs": [],
   "source": [
    "l = [1, 2]\n",
    "\n",
    "m = l\n",
    "\n",
    "l = l + [3, 4]"
   ]
  },
  {
   "cell_type": "code",
   "execution_count": 38,
   "metadata": {},
   "outputs": [
    {
     "name": "stdout",
     "output_type": "stream",
     "text": [
      "[1, 2, 3, 4]\n",
      "[1, 2]\n"
     ]
    }
   ],
   "source": [
    "print(l)\n",
    "print(m)"
   ]
  },
  {
   "cell_type": "markdown",
   "metadata": {},
   "source": [
    "Concatenation creates a *new* object! "
   ]
  },
  {
   "cell_type": "code",
   "execution_count": null,
   "metadata": {},
   "outputs": [],
   "source": []
  },
  {
   "cell_type": "code",
   "execution_count": null,
   "metadata": {},
   "outputs": [],
   "source": []
  }
 ],
 "metadata": {
  "anaconda-cloud": {},
  "kernelspec": {
   "display_name": "Python 3",
   "language": "python",
   "name": "python3"
  },
  "language_info": {
   "codemirror_mode": {
    "name": "ipython",
    "version": 3
   },
   "file_extension": ".py",
   "mimetype": "text/x-python",
   "name": "python",
   "nbconvert_exporter": "python",
   "pygments_lexer": "ipython3",
   "version": "3.8.3"
  },
  "toc": {
   "nav_menu": {
    "height": "66px",
    "width": "252px"
   },
   "number_sections": false,
   "sideBar": false,
   "skip_h1_title": false,
   "toc_cell": false,
   "toc_position": {},
   "toc_section_display": "block",
   "toc_window_display": false
  },
  "varInspector": {
   "cols": {
    "lenName": 16,
    "lenType": 16,
    "lenVar": 40
   },
   "kernels_config": {
    "python": {
     "delete_cmd_postfix": "",
     "delete_cmd_prefix": "del ",
     "library": "var_list.py",
     "varRefreshCmd": "print(var_dic_list())"
    },
    "r": {
     "delete_cmd_postfix": ") ",
     "delete_cmd_prefix": "rm(",
     "library": "var_list.r",
     "varRefreshCmd": "cat(var_dic_list()) "
    }
   },
   "types_to_exclude": [
    "module",
    "function",
    "builtin_function_or_method",
    "instance",
    "_Feature"
   ],
   "window_display": false
  }
 },
 "nbformat": 4,
 "nbformat_minor": 1
}
